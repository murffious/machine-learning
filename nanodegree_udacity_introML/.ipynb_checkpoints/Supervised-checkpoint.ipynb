{
 "cells": [
  {
   "cell_type": "markdown",
   "metadata": {},
   "source": [
    "### Udacity Intro to ML with pyTorch Nanodegree Notes and Code\n",
    "\n",
    "**Section 1 Linear Regression**\n",
    "\n",
    "_Skill 1_: Fit a line on graph through data points \n",
    "\n",
    "$y = m_{x} +b $  - Basic Slope<br>\n",
    "$y = w_{1}x + w_{2} $ - Use w since weights are used in ML<br>"
   ]
  },
  {
   "cell_type": "code",
   "execution_count": null,
   "metadata": {},
   "outputs": [],
   "source": []
  }
 ],
 "metadata": {
  "kernelspec": {
   "display_name": "env",
   "language": "python",
   "name": "env"
  },
  "language_info": {
   "codemirror_mode": {
    "name": "ipython",
    "version": 3
   },
   "file_extension": ".py",
   "mimetype": "text/x-python",
   "name": "python",
   "nbconvert_exporter": "python",
   "pygments_lexer": "ipython3",
   "version": "3.8.1"
  }
 },
 "nbformat": 4,
 "nbformat_minor": 4
}
