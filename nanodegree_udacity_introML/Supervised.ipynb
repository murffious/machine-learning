{
 "cells": [
  {
   "cell_type": "markdown",
   "metadata": {},
   "source": [
    "### Udacity Intro to ML with pyTorch Nanodegree Notes and Code\n",
    "\n",
    "**Section 1 Linear Regression**\n",
    "\n",
    "_Skill 1_: Fit a line on graph of that best fits a set data points \n",
    "\n",
    "$y = m_{x} +b $  - Basic line graph - slope; Y-intercept;<br>\n",
    "$y = w_{1}x + w_{2} $ - Use w since weights are used in ML<br>\n"
   ]
  },
  {
   "cell_type": "markdown",
   "metadata": {},
   "source": [
    "Tips to move point to a line:<br>\n",
    "_Absolute Trick_ - if the line is not fitted perfectly you could move the line closer to the data. <br>\n",
    "- ex: point (p,q) you could add 1 to the Y-intercept and the whole line moves up (-1 moves it down) <br>\n",
    "you could add or subtract _p_ from the slope and. move the line back and forward on the x-axis where p is a horizontal distance to the data point<br>\n",
    "thus: $y = (w_{1}x + p) + (w_{2} + 1)$ works in positive - use subrtract if other way ..."
   ]
  },
  {
   "cell_type": "markdown",
   "metadata": {},
   "source": [
    "Learning Rate $\\alpha$ - Since the above could move the line too much, fast we instead multiply each by a small incremental rate $\\alpha$<br>\n",
    "$ y = (w_{1}x + p \\alpha) + (w_{2} + \\alpha)$"
   ]
  },
  {
   "cell_type": "markdown",
   "metadata": {},
   "source": [
    "ex: (5, 15) $\\alpha$ = 0.1 --> $ y = (2x + 5 \\times .1) + (3 + .1)$;\n",
    "$y = (2.5)x + (3.1)$"
   ]
  },
  {
   "cell_type": "markdown",
   "metadata": {},
   "source": [
    "_Square Trick_ - $(q-q^{\\prime})$ - vertical distance from line to the point \n",
    "$ y = (w_{1}x + p \\alpha (q-q^{\\prime})) + (w_{2} + \\alpha (q-q^{\\prime}))$ works with data under or over "
   ]
  },
  {
   "cell_type": "markdown",
   "metadata": {},
   "source": [
    "Practice for both: <br>\n",
    "point (-5, 3)<br><br>\n",
    "Absolute - <br>\n",
    "learning rate of $\\alpha = 0.1$ ; $y = -0.6x + 4 $ <br>\n",
    " $y = -0.1x + 3.9$ <br>\n",
    "\n",
    " Square - <br>\n",
    " (-5,3), here the q is 3, but what is the current set of co-ordinates, in particular the current q'. You can get it by replacing the x = -5, in the given equation. The x co-ordinate would not change, because the distance of x from the y axis would remain constant.\n",
    "\n",
    "So replacing we get the value -> y = -0.6 (-5) + 4 = 3+4 = 7\n",
    "\n",
    "Thus y = 7 and our original set of co-ordinates is (-5,7), giving our q' = 7.\n",
    "\n",
    "Therefore, q-q' = (3-7) = -4\n",
    "\n",
    "From value of 7 for y axis, we have to move the line downwards towards the y co-ordinate 3,\n",
    "\n",
    "y = (w1 + p(q-q')a)x + (w2 + (q-q')a)\n",
    "\n",
    "= (-0.6 + -5(-4)0.01)x + (4+(-4*0.01)\n",
    "\n",
    "= (-0.6 + 0.2)x + (4-0.04)\n",
    "\n",
    "= -0.4x + 3.96"
   ]
  },
  {
   "cell_type": "markdown",
   "metadata": {},
   "source": [
    "\n",
    "\n"
   ]
  }
 ],
 "metadata": {
  "kernelspec": {
   "display_name": "env",
   "language": "python",
   "name": "env"
  },
  "language_info": {
   "codemirror_mode": {
    "name": "ipython",
    "version": 3
   },
   "file_extension": ".py",
   "mimetype": "text/x-python",
   "name": "python",
   "nbconvert_exporter": "python",
   "pygments_lexer": "ipython3",
   "version": "3.8.1"
  }
 },
 "nbformat": 4,
 "nbformat_minor": 4
}
