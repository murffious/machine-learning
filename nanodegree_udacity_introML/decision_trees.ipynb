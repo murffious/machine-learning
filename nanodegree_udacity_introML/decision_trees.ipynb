{
 "cells": [
  {
   "cell_type": "markdown",
   "metadata": {},
   "source": [
    "### Decision Trees\n",
    "\n",
    "### Entropy\n",
    "- how much stuff can move around <br>\n",
    "ex: ice vs water vs vapor <br>\n",
    "- more knowledge about the prediction or data less entropy<br>\n",
    "\n",
    "Making a formula - multiply all the probabilities<br>\n",
    "Turn into sums instead which are better with logarithm<br>\n",
    "$log (ab) = log(a) + log(b)$<br> use log base 2"
   ]
  },
  {
   "cell_type": "code",
   "execution_count": null,
   "metadata": {},
   "outputs": [],
   "source": [
    "-((4/14) np.log2(4/14) + (10/14) np.log2(10/14))"
   ]
  }
 ],
 "metadata": {
  "kernelspec": {
   "display_name": "env",
   "language": "python",
   "name": "env"
  },
  "language_info": {
   "codemirror_mode": {
    "name": "ipython",
    "version": 3
   },
   "file_extension": ".py",
   "mimetype": "text/x-python",
   "name": "python",
   "nbconvert_exporter": "python",
   "pygments_lexer": "ipython3",
   "version": "3.8.1"
  }
 },
 "nbformat": 4,
 "nbformat_minor": 4
}
