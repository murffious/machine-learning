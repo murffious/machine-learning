{
 "cells": [
  {
   "cell_type": "markdown",
   "metadata": {},
   "source": [
    "### Machine Learning Practical Application Fun \n",
    "\"AI in Hollywood\" Series. Edition 1.0.\n",
    "by Paul Morf, Machine Learning Specialist"
   ]
  },
  {
   "cell_type": "markdown",
   "metadata": {},
   "source": [
    "###### Purpose:\n",
    "\n",
    "Design a Recommend System that outputs a SSN to the user group. The input comes from anything the machine can gather from what is online aka a digital footprint from video, voice(phone etc), GPS tracking, purchases, emails, social media etc. One TV show that made this system/idea a common pop culture use for AI in the media is called Person of Interset. What is fascinating is that over the 5 seasons each episode displays with some elegance the use of AI to make decisions of life or death. Its pitfalls and strengths in lots of ways I think are realistically portrayed. This show fascinated me and is stil one of the only TV shows I have ever watched and loved. \n",
    "\n",
    "I am creating a series of projects based on \"AI in Hollywood.\" Its almost like a myth busters but for AI specifically. I want to prove the reality or each possible use of AI. I am 100% doing this to practice ML in a personally meanigful and practical way and have no agenda otherwise. A reference to the show for this edition of my series can be seen by clicking the link here [https://www.imdb.com/title/tt1839578/]."
   ]
  },
  {
   "cell_type": "markdown",
   "metadata": {},
   "source": [
    "<u>ML Process/Plan Step</u>\n",
    "\n",
    "1. Define purpose / Ask a quesiton(what to predict, recommend, classify etc.) \n",
    "Choose which ML to use here based on the need, Choose a variable to predict,\n",
    "2. Source (pipeline here if needed or possible) \n",
    "Find data, pick what data will be used\n",
    "3. Wrangle\n",
    "Gather data and clean data,Create features, normalize\n",
    "4. Model _ Train - Find Patterns \n",
    " Split into sample data, training data and maybe validation data sets, Build the model, Test data \n",
    "5. Predictions (goal highly accurate & quality) on fresh data \n",
    "Determine what is accurate\n",
    "Evaluate model and maybe change question if needed and optimize model\n",
    "6. Possible Deploy \n",
    "If possible find new data to stream to the model and deploy it for ongoing predictions \n",
    "maintain and adjust the model and or Retrain if needed with data drift etc. "
   ]
  },
  {
   "cell_type": "code",
   "execution_count": null,
   "metadata": {},
   "outputs": [],
   "source": []
  }
 ],
 "metadata": {
  "kernelspec": {
   "display_name": "Python 3",
   "language": "python",
   "name": "python3"
  },
  "language_info": {
   "codemirror_mode": {
    "name": "ipython",
    "version": 3
   },
   "file_extension": ".py",
   "mimetype": "text/x-python",
   "name": "python",
   "nbconvert_exporter": "python",
   "pygments_lexer": "ipython3",
   "version": "3.8.5"
  }
 },
 "nbformat": 4,
 "nbformat_minor": 4
}
