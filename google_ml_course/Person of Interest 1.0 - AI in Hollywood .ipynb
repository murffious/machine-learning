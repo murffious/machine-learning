{
 "cells": [
  {
   "cell_type": "markdown",
   "metadata": {},
   "source": [
    "### Machine Learning Practical Application Fun \n",
    "\"AI in Hollywood\" Series. Edition 1.0.\n",
    "by Paul Morf, Machine Learning Specialist"
   ]
  },
  {
   "cell_type": "markdown",
   "metadata": {},
   "source": [
    "###### Background:\n",
    "\n",
    "Design a Recommend System that outputs a SSN to the user group. The input comes from anything the machine can gather from what is online aka a digital footprint from video, voice(phone etc), GPS tracking, purchases, emails, social media etc. One TV show that made this system/idea a common pop culture use for AI in the media is called Person of Interset. What is fascinating is that over the 5 seasons each episode displays with some elegance the use of AI to make decisions of life or death. Its pitfalls and strengths in lots of ways I think are realistically portrayed. This show fascinated me and is stil one of the only TV shows I have ever watched and loved. \n",
    "\n",
    "I am creating a series of projects based on \"AI in Hollywood.\" Its almost like a myth busters but for AI specifically. I want to prove the reality or each possible use of AI. I am 100% doing this to practice ML in a personally meanigful and practical way and have no agenda otherwise. A reference to the show for this edition of my series can be seen by clicking the link here [https://www.imdb.com/title/tt1839578/].\n",
    "\n",
    "###### Recommend System\n",
    "\n",
    "Output Twitter handle. \n"
   ]
  },
  {
   "cell_type": "markdown",
   "metadata": {},
   "source": [
    "<u>ML Process/Plan Step</u>\n",
    "\n",
    "1. Define purpose / Ask a quesiton(what to predict, recommend, classify etc.) \n",
    "Choose which ML to use here based on the need, Choose a variable to predict, What problem aspect of this needs ML vs other ways of solving it .\n",
    "2. Source (pipeline here if needed or possible) \n",
    "Find data, pick what data will be used\n",
    "3. Wrangle\n",
    "Gather data visualize and check it out and clean data,Create features, normalize\n",
    "4. Model _ Train - Find Patterns \n",
    " Split into sample data, training data and maybe validation data sets, Build the model, Test data \n",
    "5. Predictions (goal highly accurate & quality) on fresh data \n",
    "Determine what is accurate\n",
    "Evaluate model and maybe change question if needed and optimize model\n",
    "6. Possible Deploy \n",
    "If possible find new data to stream to the model and deploy it for ongoing predictions \n",
    "maintain and adjust the model and or Retrain if needed with data drift etc. "
   ]
  },
  {
   "cell_type": "code",
   "execution_count": 1,
   "metadata": {},
   "outputs": [
    {
     "name": "stdout",
     "output_type": "stream",
     "text": [
      "3.4.2\n"
     ]
    }
   ],
   "source": [
    "# check opencv version\n",
    "# A modern implementation of the Classifier Cascade face detection algorithm is provided in the OpenCV library. \n",
    "# This is a C++ computer vision library that provides a python interface.\n",
    "import cv2\n",
    "# print version number\n",
    "print(cv2.__version__)\n",
    "from cv2 import imread\n",
    "from cv2 import CascadeClassifier\n",
    "from cv2 import imshow\n",
    "from cv2 import waitKey\n",
    "from cv2 import destroyAllWindows\n",
    "from cv2 import rectangle"
   ]
  },
  {
   "cell_type": "code",
   "execution_count": 2,
   "metadata": {},
   "outputs": [],
   "source": [
    "# load the photograph\n",
    "# pixels = imread('test1.jpg')\n",
    "# load the 2nd photograph\n",
    "pixels = imread('test2.jpg')\n",
    "# load the pre-trained model\n",
    "classifier = CascadeClassifier('haarcascade_frontalface_default.xml')\n",
    "# perform face detection\n",
    "bboxes = classifier.detectMultiScale(pixels)"
   ]
  },
  {
   "cell_type": "code",
   "execution_count": 3,
   "metadata": {},
   "outputs": [
    {
     "name": "stdout",
     "output_type": "stream",
     "text": [
      "[335  29  34  34]\n",
      "[427  48  38  38]\n",
      "[127  31  40  40]\n",
      "[218  39  43  43]\n",
      "[257  17  66  66]\n",
      "[151 146  46  46]\n",
      "[255 147  42  42]\n",
      "[366 156  42  42]\n",
      "[504 155  40  40]\n",
      "[452 262  40  40]\n",
      "[207 263  48  48]\n",
      "[ 97 267  49  49]\n",
      "[317 270  43  43]\n",
      "[313 248  55  55]\n"
     ]
    }
   ],
   "source": [
    "# print bounding box for each detected face\n",
    "for box in bboxes:\n",
    "    print(box)"
   ]
  },
  {
   "cell_type": "code",
   "execution_count": null,
   "metadata": {},
   "outputs": [],
   "source": [
    "for box in bboxes:\n",
    "    # extract\n",
    "    x, y, width, height = box\n",
    "    x2, y2 = x + width, y + height\n",
    "    # draw a rectangle over the pixels\n",
    "    rectangle(pixels, (x, y), (x2, y2), (0,0,255), 1)\n",
    "# show the image\n",
    "imshow('face detection', pixels)\n",
    "# keep the window open until we press a key\n",
    "waitKey(0)\n",
    "# close the window\n",
    "destroyAllWindows()"
   ]
  },
  {
   "cell_type": "code",
   "execution_count": null,
   "metadata": {},
   "outputs": [],
   "source": []
  }
 ],
 "metadata": {
  "kernelspec": {
   "display_name": "Python 3",
   "language": "python",
   "name": "python3"
  },
  "language_info": {
   "codemirror_mode": {
    "name": "ipython",
    "version": 3
   },
   "file_extension": ".py",
   "mimetype": "text/x-python",
   "name": "python",
   "nbconvert_exporter": "python",
   "pygments_lexer": "ipython3",
   "version": "3.7.9"
  }
 },
 "nbformat": 4,
 "nbformat_minor": 4
}
