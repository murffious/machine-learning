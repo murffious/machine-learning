# Image Classification - real world examples 
A. My desird activity for Teminator identify John Conner image Yes or No and maybe where (in this case an internet site and use JS to grab and delete the image for fun) disclaimer this one hah 
B. My secondary activity with 'Person of Interest' find some person info from a photo (reverese image search like Google) 
C. Today - https://developers.google.com/machine-learning/practica/image-classification
D. OCR combined with reading a digital text image- like a geneological record - for indexing
