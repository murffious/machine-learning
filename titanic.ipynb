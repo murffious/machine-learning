import matplotlib.pyplot as plt
import pandas as pd
from sklearn import (ensemble, preprocessing,tree)
from sklearn.metrics import (auc, confusion_matrix, roc_auc_score, roc_curve)
from sklearn.model_selection import (train_test_split, StratifiedKFold)
from yellowbrick.classifier import (ConfusionMatrix, ROCAUC)
from yellowbrick.model_selection import (LearningCurve)

# Question to Answer - Survive based on certain characteristic

# Gather Data
url = ("http://biostat.mc.vanderbilt.edu/wiki/pub/Main/DataSets/titanic3.xls")
df = pd.read_excel(url)
orig_df = df

# Clean Data - Standardize, Outliers, Missing Data 
