{
 "cells": [
  {
   "cell_type": "code",
   "execution_count": 4,
   "metadata": {},
   "outputs": [
    {
     "name": "stdout",
     "output_type": "stream",
     "text": [
      "/usr/bin/python\n",
      "['', '/System/Library/Frameworks/Python.framework/Versions/2.7/lib/python27.zip', '/System/Library/Frameworks/Python.framework/Versions/2.7/lib/python2.7', '/System/Library/Frameworks/Python.framework/Versions/2.7/lib/python2.7/plat-darwin', '/System/Library/Frameworks/Python.framework/Versions/2.7/lib/python2.7/plat-mac', '/System/Library/Frameworks/Python.framework/Versions/2.7/lib/python2.7/plat-mac/lib-scriptpackages', '/System/Library/Frameworks/Python.framework/Versions/2.7/lib/python2.7/lib-tk', '/System/Library/Frameworks/Python.framework/Versions/2.7/lib/python2.7/lib-old', '/System/Library/Frameworks/Python.framework/Versions/2.7/lib/python2.7/lib-dynload', '/Users/paulmurff/Library/Python/2.7/lib/python/site-packages', '/Library/Python/2.7/site-packages', '/System/Library/Frameworks/Python.framework/Versions/2.7/Extras/lib/python', '/System/Library/Frameworks/Python.framework/Versions/2.7/Extras/lib/python/PyObjC']\n",
      "\n",
      "/Users/paulmurff/.pyenv/versions/3.8.1/bin/python\n",
      "['', '/Users/paulmurff/.pyenv/versions/3.8.1/lib/python38.zip', '/Users/paulmurff/.pyenv/versions/3.8.1/lib/python3.8', '/Users/paulmurff/.pyenv/versions/3.8.1/lib/python3.8/lib-dynload', '/Users/paulmurff/.pyenv/versions/3.8.1/lib/python3.8/site-packages']\n",
      "\n",
      "/Users/paulmurff/.pyenv/shims/python\n",
      "['', '/Users/paulmurff/.pyenv/versions/3.8.1/lib/python38.zip', '/Users/paulmurff/.pyenv/versions/3.8.1/lib/python3.8', '/Users/paulmurff/.pyenv/versions/3.8.1/lib/python3.8/lib-dynload', '/Users/paulmurff/.pyenv/versions/3.8.1/lib/python3.8/site-packages']\n",
      "\n"
     ]
    }
   ],
   "source": []
  },
  {
   "cell_type": "code",
   "execution_count": null,
   "metadata": {},
   "outputs": [],
   "source": []
  }
 ],
 "metadata": {
  "kernelspec": {
   "display_name": "Python 3",
   "language": "python",
   "name": "python3"
  },
  "language_info": {
   "codemirror_mode": {
    "name": "ipython",
    "version": 3
   },
   "file_extension": ".py",
   "mimetype": "text/x-python",
   "name": "python",
   "nbconvert_exporter": "python",
   "pygments_lexer": "ipython3",
   "version": "3.8.1"
  }
 },
 "nbformat": 4,
 "nbformat_minor": 4
}
